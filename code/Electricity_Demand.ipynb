{
 "cells": [
  {
   "cell_type": "markdown",
   "id": "34085169",
   "metadata": {},
   "source": [
    "# Electricity_Demand"
   ]
  },
  {
   "cell_type": "markdown",
   "id": "3c2e70df",
   "metadata": {},
   "source": [
    "**Source:** *https://www.ree.es/en/apidatos*"
   ]
  },
  {
   "cell_type": "code",
   "execution_count": 1,
   "id": "c98c18cd",
   "metadata": {},
   "outputs": [],
   "source": [
    "# Importamos las librerías necesarias\n",
    "import pandas as pd\n",
    "import numpy as np\n",
    "import itertools\n",
    "from functools import reduce\n",
    "import operator\n",
    "\n",
    "pd.options.display.max_columns=None\n",
    "\n",
    "import warnings\n",
    "warnings.filterwarnings('ignore')"
   ]
  },
  {
   "cell_type": "code",
   "execution_count": 2,
   "id": "8ef111b8",
   "metadata": {},
   "outputs": [
    {
     "data": {
      "text/plain": [
       "'https://apidatos.ree.es/en/datos/demanda/evolucion?start_date=2022-01-01T00:00&end_date=2022-12-31T23:59&time_trunc=day'"
      ]
     },
     "execution_count": 2,
     "metadata": {},
     "output_type": "execute_result"
    }
   ],
   "source": [
    "# Obtenemos información de la estación seleccionada durante el periodo deseado\n",
    "API_stream_url = f'https://apidatos.ree.es/en/datos/demanda/evolucion?start_date=2022-01-01T00:00&end_date=2022-12-31T23:59&time_trunc=day'\n",
    "API_stream_url"
   ]
  },
  {
   "cell_type": "code",
   "execution_count": 3,
   "id": "dbec1713",
   "metadata": {},
   "outputs": [
    {
     "data": {
      "text/plain": [
       "<Response [200]>"
      ]
     },
     "execution_count": 3,
     "metadata": {},
     "output_type": "execute_result"
    }
   ],
   "source": [
    "# Importamos la librería requests\n",
    "import requests\n",
    "\n",
    "# Realizamos el request\n",
    "r = requests.get(API_stream_url)\n",
    "r_json = r.json()\n",
    "r"
   ]
  },
  {
   "cell_type": "code",
   "execution_count": 4,
   "id": "d2aed4be",
   "metadata": {
    "scrolled": true
   },
   "outputs": [
    {
     "data": {
      "text/html": [
       "<div>\n",
       "<style scoped>\n",
       "    .dataframe tbody tr th:only-of-type {\n",
       "        vertical-align: middle;\n",
       "    }\n",
       "\n",
       "    .dataframe tbody tr th {\n",
       "        vertical-align: top;\n",
       "    }\n",
       "\n",
       "    .dataframe thead th {\n",
       "        text-align: right;\n",
       "    }\n",
       "</style>\n",
       "<table border=\"1\" class=\"dataframe\">\n",
       "  <thead>\n",
       "    <tr style=\"text-align: right;\">\n",
       "      <th></th>\n",
       "      <th>Demand</th>\n",
       "    </tr>\n",
       "    <tr>\n",
       "      <th>datetime</th>\n",
       "      <th></th>\n",
       "    </tr>\n",
       "  </thead>\n",
       "  <tbody>\n",
       "    <tr>\n",
       "      <th>2022-01-01 00:00:00+01:00</th>\n",
       "      <td>535144.786</td>\n",
       "    </tr>\n",
       "    <tr>\n",
       "      <th>2022-01-02 00:00:00+01:00</th>\n",
       "      <td>578855.186</td>\n",
       "    </tr>\n",
       "    <tr>\n",
       "      <th>2022-01-03 00:00:00+01:00</th>\n",
       "      <td>691970.774</td>\n",
       "    </tr>\n",
       "    <tr>\n",
       "      <th>2022-01-04 00:00:00+01:00</th>\n",
       "      <td>718047.874</td>\n",
       "    </tr>\n",
       "    <tr>\n",
       "      <th>2022-01-05 00:00:00+01:00</th>\n",
       "      <td>715070.234</td>\n",
       "    </tr>\n",
       "  </tbody>\n",
       "</table>\n",
       "</div>"
      ],
      "text/plain": [
       "                               Demand\n",
       "datetime                             \n",
       "2022-01-01 00:00:00+01:00  535144.786\n",
       "2022-01-02 00:00:00+01:00  578855.186\n",
       "2022-01-03 00:00:00+01:00  691970.774\n",
       "2022-01-04 00:00:00+01:00  718047.874\n",
       "2022-01-05 00:00:00+01:00  715070.234"
      ]
     },
     "execution_count": 4,
     "metadata": {},
     "output_type": "execute_result"
    }
   ],
   "source": [
    "# Obtenemos los datos necesarios\n",
    "col_2_s = lambda col: pd.DataFrame(col['attributes']['values']).set_index('datetime')['value']\n",
    "\n",
    "def get_from_dict(data_dict, map_list):\n",
    "    return reduce(operator.getitem, map_list, data_dict)\n",
    "\n",
    "def json_2_nested_lists(obj_in, route):\n",
    "    if len(route) == 0:\n",
    "        yield obj_in\n",
    "        \n",
    "    elif isinstance(obj_in, list):\n",
    "        for item in obj_in:\n",
    "            obj_out = json_2_nested_lists(item, route)\n",
    "            yield from obj_out\n",
    "            \n",
    "    else:\n",
    "        obj_out = get_from_dict(obj_in, route[0])\n",
    "        yield from json_2_nested_lists(obj_out, route[1:])\n",
    "\n",
    "def json_2_df(r_json, JSON_route):\n",
    "    nested_lists = json_2_nested_lists(r_json, JSON_route)\n",
    "    cols_flatlist = list(itertools.chain(*nested_lists))\n",
    "\n",
    "    df = pd.DataFrame()\n",
    "\n",
    "    for col in cols_flatlist:\n",
    "        s_data = col_2_s(col)\n",
    "        s_data.name = col['type']\n",
    "\n",
    "        df[s_data.name] = s_data\n",
    "\n",
    "    df.index = pd.to_datetime(df.index)\n",
    "    \n",
    "    return df\n",
    "\n",
    "JSON_route = [\n",
    "    ['included'],\n",
    "]\n",
    "   \n",
    "df = json_2_df(r_json, JSON_route)\n",
    "\n",
    "df.head()"
   ]
  },
  {
   "cell_type": "code",
   "execution_count": 5,
   "id": "f99d7343",
   "metadata": {},
   "outputs": [
    {
     "data": {
      "text/html": [
       "<div>\n",
       "<style scoped>\n",
       "    .dataframe tbody tr th:only-of-type {\n",
       "        vertical-align: middle;\n",
       "    }\n",
       "\n",
       "    .dataframe tbody tr th {\n",
       "        vertical-align: top;\n",
       "    }\n",
       "\n",
       "    .dataframe thead th {\n",
       "        text-align: right;\n",
       "    }\n",
       "</style>\n",
       "<table border=\"1\" class=\"dataframe\">\n",
       "  <thead>\n",
       "    <tr style=\"text-align: right;\">\n",
       "      <th></th>\n",
       "      <th>Demand</th>\n",
       "      <th>Date</th>\n",
       "    </tr>\n",
       "  </thead>\n",
       "  <tbody>\n",
       "    <tr>\n",
       "      <th>0</th>\n",
       "      <td>535144.786</td>\n",
       "      <td>2022-01-01</td>\n",
       "    </tr>\n",
       "    <tr>\n",
       "      <th>1</th>\n",
       "      <td>578855.186</td>\n",
       "      <td>2022-01-02</td>\n",
       "    </tr>\n",
       "    <tr>\n",
       "      <th>2</th>\n",
       "      <td>691970.774</td>\n",
       "      <td>2022-01-03</td>\n",
       "    </tr>\n",
       "    <tr>\n",
       "      <th>3</th>\n",
       "      <td>718047.874</td>\n",
       "      <td>2022-01-04</td>\n",
       "    </tr>\n",
       "    <tr>\n",
       "      <th>4</th>\n",
       "      <td>715070.234</td>\n",
       "      <td>2022-01-05</td>\n",
       "    </tr>\n",
       "    <tr>\n",
       "      <th>...</th>\n",
       "      <td>...</td>\n",
       "      <td>...</td>\n",
       "    </tr>\n",
       "    <tr>\n",
       "      <th>360</th>\n",
       "      <td>611568.630</td>\n",
       "      <td>2022-12-27</td>\n",
       "    </tr>\n",
       "    <tr>\n",
       "      <th>361</th>\n",
       "      <td>629533.183</td>\n",
       "      <td>2022-12-28</td>\n",
       "    </tr>\n",
       "    <tr>\n",
       "      <th>362</th>\n",
       "      <td>636823.461</td>\n",
       "      <td>2022-12-29</td>\n",
       "    </tr>\n",
       "    <tr>\n",
       "      <th>363</th>\n",
       "      <td>623610.426</td>\n",
       "      <td>2022-12-30</td>\n",
       "    </tr>\n",
       "    <tr>\n",
       "      <th>364</th>\n",
       "      <td>559266.578</td>\n",
       "      <td>2022-12-31</td>\n",
       "    </tr>\n",
       "  </tbody>\n",
       "</table>\n",
       "<p>365 rows × 2 columns</p>\n",
       "</div>"
      ],
      "text/plain": [
       "         Demand       Date\n",
       "0    535144.786 2022-01-01\n",
       "1    578855.186 2022-01-02\n",
       "2    691970.774 2022-01-03\n",
       "3    718047.874 2022-01-04\n",
       "4    715070.234 2022-01-05\n",
       "..          ...        ...\n",
       "360  611568.630 2022-12-27\n",
       "361  629533.183 2022-12-28\n",
       "362  636823.461 2022-12-29\n",
       "363  623610.426 2022-12-30\n",
       "364  559266.578 2022-12-31\n",
       "\n",
       "[365 rows x 2 columns]"
      ]
     },
     "execution_count": 5,
     "metadata": {},
     "output_type": "execute_result"
    }
   ],
   "source": [
    "# Importamos la librería datetime\n",
    "import datetime as dt\n",
    "\n",
    "# Dotamos a la fecha del formato deseado\n",
    "def limpiar_fecha(fecha):\n",
    "    nueva_fecha = dt.datetime.strptime(str(fecha), '%Y-%m-%d %H:%M:%S%z').replace(tzinfo=None)\n",
    "    return nueva_fecha\n",
    "\n",
    "dataset = df.reset_index(drop=False)\n",
    "dataset['Date'] = dataset['datetime'].apply(lambda x: limpiar_fecha(x))\n",
    "dataset = dataset.drop('datetime', axis=1)\n",
    "dataset"
   ]
  }
 ],
 "metadata": {
  "kernelspec": {
   "display_name": "Python 3 (ipykernel)",
   "language": "python",
   "name": "python3"
  },
  "language_info": {
   "codemirror_mode": {
    "name": "ipython",
    "version": 3
   },
   "file_extension": ".py",
   "mimetype": "text/x-python",
   "name": "python",
   "nbconvert_exporter": "python",
   "pygments_lexer": "ipython3",
   "version": "3.9.12"
  }
 },
 "nbformat": 4,
 "nbformat_minor": 5
}
